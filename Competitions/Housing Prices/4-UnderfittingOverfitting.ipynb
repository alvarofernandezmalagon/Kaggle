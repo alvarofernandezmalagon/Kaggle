{
  "cells": [
    {
      "metadata": {
        "_uuid": "66b2680783b79b4ff60d3abb2e3550d32121d438"
      },
      "cell_type": "markdown",
      "source": "**[Machine Learning Course Home Page](https://www.kaggle.com/learn/machine-learning)**\n\n---\n"
    },
    {
      "metadata": {
        "_uuid": "58b493a698aef410d524d189429a43144d755a0b"
      },
      "cell_type": "markdown",
      "source": "## Recap\nYou've built your first model, and now it's time to optimize the size of the tree to make better predictions. Run this cell to set up your coding environment where the previous step left off."
    },
    {
      "metadata": {
        "_uuid": "2e769a253e40acc274e06e05ad54e20d559f9231",
        "trusted": true
      },
      "cell_type": "code",
      "source": "# Code you have previously used to load data\nimport pandas as pd\nfrom sklearn.metrics import mean_absolute_error\nfrom sklearn.model_selection import train_test_split\nfrom sklearn.tree import DecisionTreeRegressor\n\n\n# Path of the file to read\niowa_file_path = '../input/home-data-for-ml-course/train.csv'\n\nhome_data = pd.read_csv(iowa_file_path)\n# Create target object and call it y\ny = home_data.SalePrice\n# Create X\nfeatures = ['LotArea', 'YearBuilt', '1stFlrSF', '2ndFlrSF', 'FullBath', 'BedroomAbvGr', 'TotRmsAbvGrd']\nX = home_data[features]\n\n# Split into validation and training data\ntrain_X, val_X, train_y, val_y = train_test_split(X, y, random_state=1)\n\n# Specify Model\niowa_model = DecisionTreeRegressor(random_state=1)\n# Fit Model\niowa_model.fit(train_X, train_y)\n\n# Make validation predictions and calculate mean absolute error\nval_predictions = iowa_model.predict(val_X)\nval_mae = mean_absolute_error(val_predictions, val_y)\nprint(\"Validation MAE: {:,.0f}\".format(val_mae))\n\n# Set up code checking\nfrom learntools.core import binder\nbinder.bind(globals())\nfrom learntools.machine_learning.ex5 import *\nprint(\"\\nSetup complete\")",
      "execution_count": 5,
      "outputs": [
        {
          "output_type": "stream",
          "text": "WARNING:root:Ignoring repeated attempt to bind to globals\n",
          "name": "stderr"
        },
        {
          "output_type": "stream",
          "text": "Validation MAE: 29,653\n\nSetup complete\n",
          "name": "stdout"
        }
      ]
    },
    {
      "metadata": {
        "_uuid": "74edc986918a9a5dd4d2d5599fa382d7b4ccd5cb"
      },
      "cell_type": "markdown",
      "source": "# Exercises\nYou could write the function `get_mae` yourself. For now, we'll supply it. This is the same function you read about in the previous lesson. Just run the cell below."
    },
    {
      "metadata": {
        "_uuid": "3228b7ab9535bd1194560b474675499780b56220",
        "trusted": true
      },
      "cell_type": "code",
      "source": "def get_mae(max_leaf_nodes, train_X, val_X, train_y, val_y):\n    model = DecisionTreeRegressor(max_leaf_nodes=max_leaf_nodes, random_state=0)\n    model.fit(train_X, train_y)\n    preds_val = model.predict(val_X)\n    mae = mean_absolute_error(val_y, preds_val)\n    return(mae)",
      "execution_count": 6,
      "outputs": []
    },
    {
      "metadata": {
        "_uuid": "983dbbc331caa2291f1ba9b175900c1f51719a70"
      },
      "cell_type": "markdown",
      "source": "## Step 1: Compare Different Tree Sizes\nWrite a loop that tries the following values for *max_leaf_nodes* from a set of possible values.\n\nCall the *get_mae* function on each value of max_leaf_nodes. Store the output in some way that allows you to select the value of `max_leaf_nodes` that gives the most accurate model on your data."
    },
    {
      "metadata": {
        "_uuid": "7b7b953fc902fb7bb3f0d8d10a9cf4777095627e",
        "trusted": true
      },
      "cell_type": "code",
      "source": "candidate_max_leaf_nodes = [5, 25, 50, 100, 250, 500]\n# Write loop to find the ideal tree size from candidate_max_leaf_nodes\nmy_mae={}\nfor max_leaf_nodes in candidate_max_leaf_nodes:\n    my_mae[max_leaf_nodes] = get_mae(max_leaf_nodes, train_X, val_X, train_y, val_y)\n\n# Store the best value of max_leaf_nodes (it will be either 5, 25, 50, 100, 250 or 500)\nbest_tree_size = min(my_mae, key=my_mae.get)\nbest_tree_size",
      "execution_count": 7,
      "outputs": [
        {
          "output_type": "execute_result",
          "execution_count": 7,
          "data": {
            "text/plain": "100"
          },
          "metadata": {}
        }
      ]
    },
    {
      "metadata": {
        "_uuid": "d32301a5f0732e9494b8a42511537d266bc03f95"
      },
      "cell_type": "markdown",
      "source": "## Step 2: Fit Model Using All Data\nYou know the best tree size. If you were going to deploy this model in practice, you would make it even more accurate by using all of the data and keeping that tree size.  That is, you don't need to hold out the validation data now that you've made all your modeling decisions."
    },
    {
      "metadata": {
        "_uuid": "bf20d8e23d4d6b99bcb389254135be7c1e5f5fb3",
        "trusted": true
      },
      "cell_type": "code",
      "source": "# Fill in argument to make optimal size and uncomment\nfinal_model = DecisionTreeRegressor(max_leaf_nodes=best_tree_size)\n\n# fit the final model and uncomment the next two lines\nfinal_model.fit(X, y)",
      "execution_count": 8,
      "outputs": [
        {
          "output_type": "execute_result",
          "execution_count": 8,
          "data": {
            "text/plain": "DecisionTreeRegressor(criterion='mse', max_depth=None, max_features=None,\n           max_leaf_nodes=100, min_impurity_decrease=0.0,\n           min_impurity_split=None, min_samples_leaf=1,\n           min_samples_split=2, min_weight_fraction_leaf=0.0,\n           presort=False, random_state=None, splitter='best')"
          },
          "metadata": {}
        }
      ]
    },
    {
      "metadata": {
        "_uuid": "8cd4df95300db201a2e9a31e7633dfd3ee2a4a5e"
      },
      "cell_type": "markdown",
      "source": "You've tuned this model and improved your results. But we are still using Decision Tree models, which are not very sophisticated by modern machine learning standards. In the next step you will learn to use Random Forests to improve your models even more.\n\n# Keep Going\n\nYou are ready for **[Random Forests](https://www.kaggle.com/dansbecker/random-forests).**\n"
    },
    {
      "metadata": {
        "_uuid": "82bb557913b1cb2f371618023c6a664e2d8196bb"
      },
      "cell_type": "markdown",
      "source": "---\n**[Machine Learning Course Home Page](https://www.kaggle.com/learn/machine-learning)**\n\n"
    }
  ],
  "metadata": {
    "kernelspec": {
      "display_name": "Python 3",
      "language": "python",
      "name": "python3"
    },
    "language_info": {
      "name": "python",
      "version": "3.6.6",
      "mimetype": "text/x-python",
      "codemirror_mode": {
        "name": "ipython",
        "version": 3
      },
      "pygments_lexer": "ipython3",
      "nbconvert_exporter": "python",
      "file_extension": ".py"
    }
  },
  "nbformat": 4,
  "nbformat_minor": 1
}