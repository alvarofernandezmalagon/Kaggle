{
  "cells": [
    {
      "metadata": {
        "_uuid": "d04299593674dcd369c0306ba34fcc561620b90f"
      },
      "cell_type": "markdown",
      "source": "**[Machine Learning Course Home Page](https://www.kaggle.com/learn/machine-learning)**\n\n---\n"
    },
    {
      "metadata": {
        "_uuid": "b3cab77a8bfb3ffe4fd7c7d9f1461cf25ac11ae9"
      },
      "cell_type": "markdown",
      "source": "## Recap\nYou've built a model. In this exercise you will test how good your model is.\n\nRun the cell below to set up your coding environment where the previous exercise left off."
    },
    {
      "metadata": {
        "_uuid": "0e2ace01b94a41f499d621df913ce4f4b5b435bf",
        "trusted": true
      },
      "cell_type": "code",
      "source": "# Code you have previously used to load data\nimport pandas as pd\nfrom sklearn.tree import DecisionTreeRegressor\n\n# Path of the file to read\niowa_file_path = '../input/home-data-for-ml-course/train.csv'\n\nhome_data = pd.read_csv(iowa_file_path)\ny = home_data.SalePrice\nfeature_columns = ['LotArea', 'YearBuilt', '1stFlrSF', '2ndFlrSF', 'FullBath', 'BedroomAbvGr', 'TotRmsAbvGrd']\nX = home_data[feature_columns]\n\n# Specify Model\niowa_model = DecisionTreeRegressor()\n# Fit Model\niowa_model.fit(X, y)\n\nprint(\"First in-sample predictions:\", iowa_model.predict(X.head()))\nprint(\"Actual target values for those homes:\", y.head().tolist())\n\n# Set up code checking\nfrom learntools.core import binder\nbinder.bind(globals())\nfrom learntools.machine_learning.ex4 import *\nprint(\"Setup Complete\")",
      "execution_count": 9,
      "outputs": [
        {
          "output_type": "stream",
          "text": "WARNING:root:Ignoring repeated attempt to bind to globals\n",
          "name": "stderr"
        },
        {
          "output_type": "stream",
          "text": "First in-sample predictions: [208500. 181500. 223500. 140000. 250000.]\nActual target values for those homes: [208500, 181500, 223500, 140000, 250000]\nSetup Complete\n",
          "name": "stdout"
        }
      ]
    },
    {
      "metadata": {
        "_uuid": "29509fdf36a622f299a6bfdb37d19ea746fbb970"
      },
      "cell_type": "markdown",
      "source": "# Exercises\n\n## Step 1: Split Your Data\nUse the `train_test_split` function to split up your data.\n\nGive it the argument `random_state=1` so the `check` functions know what to expect when verifying your code.\n\nRecall, your features are loaded in the DataFrame **X** and your target is loaded in **y**.\n"
    },
    {
      "metadata": {
        "_uuid": "19b88597d2b8f317852cdf1e7d1eaf8c8be7d694",
        "trusted": true
      },
      "cell_type": "code",
      "source": "# Import the train_test_split function and uncomment\nfrom sklearn.model_selection import train_test_split\n\n# fill in and uncomment\ntrain_X, val_X, train_y, val_y = train_test_split(X, y, random_state = 1)",
      "execution_count": 10,
      "outputs": []
    },
    {
      "metadata": {
        "_uuid": "e67ebfe1a01a3185b97d827376ce4a12d8f3feb1"
      },
      "cell_type": "markdown",
      "source": "## Step 2: Specify and Fit the Model\n\nCreate a `DecisionTreeRegressor` model and fit it to the relevant data.\nSet `random_state` to 1 again when creating the model."
    },
    {
      "metadata": {
        "_uuid": "6d50dbda929b1ca5b2f76cb31874ac854d374a4a",
        "trusted": true
      },
      "cell_type": "code",
      "source": "# You imported DecisionTreeRegressor in your last exercise\n# and that code has been copied to the setup code above. So, no need to\n# import it again\n\n# Specify the model\niowa_model = DecisionTreeRegressor(random_state=1)\n\n# Fit iowa_model with the training data.\niowa_model.fit(train_X, train_y)",
      "execution_count": 11,
      "outputs": [
        {
          "output_type": "execute_result",
          "execution_count": 11,
          "data": {
            "text/plain": "DecisionTreeRegressor(criterion='mse', max_depth=None, max_features=None,\n           max_leaf_nodes=None, min_impurity_decrease=0.0,\n           min_impurity_split=None, min_samples_leaf=1,\n           min_samples_split=2, min_weight_fraction_leaf=0.0,\n           presort=False, random_state=1, splitter='best')"
          },
          "metadata": {}
        }
      ]
    },
    {
      "metadata": {
        "_uuid": "b635ee34e877c4e54ddefb636fe8217430883121"
      },
      "cell_type": "markdown",
      "source": "## Step 3: Make Predictions with Validation data\n"
    },
    {
      "metadata": {
        "_uuid": "84d62793f1aae8c12cfca6131fae4964f9c4471d",
        "trusted": true
      },
      "cell_type": "code",
      "source": "# Predict with all validation observations\nval_predictions = iowa_model.predict(val_X)",
      "execution_count": 12,
      "outputs": []
    },
    {
      "metadata": {
        "_uuid": "6c0693a90380ad5922ed0760a8f41b848a692ce5"
      },
      "cell_type": "markdown",
      "source": "Inspect your predictions and actual values from validation data."
    },
    {
      "metadata": {
        "_uuid": "45a72bc7a9aedbd68b6438543c8a3abc52923c0c",
        "trusted": true
      },
      "cell_type": "code",
      "source": "# print the top few validation predictions\nprint(val_X.head())\n# print the top few actual prices from validation data\nprint(val_y.head())",
      "execution_count": 13,
      "outputs": [
        {
          "output_type": "stream",
          "text": "      LotArea  YearBuilt      ...       BedroomAbvGr  TotRmsAbvGrd\n258     12435       2001      ...                  3             7\n267      8400       1939      ...                  4             8\n288      9819       1967      ...                  3             5\n649      1936       1970      ...                  1             3\n1233    12160       1959      ...                  3             6\n\n[5 rows x 7 columns]\n258     231500\n267     179500\n288     122000\n649      84500\n1233    142000\nName: SalePrice, dtype: int64\n",
          "name": "stdout"
        }
      ]
    },
    {
      "metadata": {
        "_uuid": "e7b6bd54700112a5b8e11b40938ce8b28dfb69e9"
      },
      "cell_type": "markdown",
      "source": "What do you notice that is different from what you saw with in-sample predictions (which are printed after the top code cell in this page).\n\nDo you remember why validation predictions differ from in-sample (or training) predictions? This is an important idea from the last lesson.\n\n## Step 4: Calculate the Mean Absolute Error in Validation Data\n"
    },
    {
      "metadata": {
        "_uuid": "193934a785c4b5aeb94ea36b84c12f3f72c0d570",
        "trusted": true
      },
      "cell_type": "code",
      "source": "from sklearn.metrics import mean_absolute_error\nval_mae = mean_absolute_error(val_y, val_predictions)\n\n# uncomment following line to see the validation_mae\nprint(val_mae)",
      "execution_count": 14,
      "outputs": [
        {
          "output_type": "stream",
          "text": "29652.931506849316\n",
          "name": "stdout"
        }
      ]
    },
    {
      "metadata": {
        "_uuid": "21273096524cf71bb8252c999e246220a1eb6be5"
      },
      "cell_type": "markdown",
      "source": "Is that MAE good?  There isn't a general rule for what values are good that applies across applications. But you'll see how to use (and improve) this number in the next step.\n\n# Keep Going\n\nYou are ready for **[Underfitting and Overfitting](https://www.kaggle.com/dansbecker/underfitting-and-overfitting).**\n"
    },
    {
      "metadata": {
        "_uuid": "c2f450c56b69956adb8530b1abee66acf78d478e"
      },
      "cell_type": "markdown",
      "source": "---\n**[Machine Learning Course Home Page](https://www.kaggle.com/learn/machine-learning)**\n\n"
    }
  ],
  "metadata": {
    "kernelspec": {
      "display_name": "Python 3",
      "language": "python",
      "name": "python3"
    },
    "language_info": {
      "name": "python",
      "version": "3.6.6",
      "mimetype": "text/x-python",
      "codemirror_mode": {
        "name": "ipython",
        "version": 3
      },
      "pygments_lexer": "ipython3",
      "nbconvert_exporter": "python",
      "file_extension": ".py"
    }
  },
  "nbformat": 4,
  "nbformat_minor": 1
}