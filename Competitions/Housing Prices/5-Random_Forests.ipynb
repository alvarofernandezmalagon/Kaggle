{
  "cells": [
    {
      "metadata": {
        "_uuid": "d0dde123d35db93777ebc4324ecfb1f3a727c079"
      },
      "cell_type": "markdown",
      "source": "**[Machine Learning Course Home Page](https://www.kaggle.com/learn/machine-learning)**\n\n---\n"
    },
    {
      "metadata": {
        "_uuid": "62214218fe8941d4328f14b1db740034a47e40f9"
      },
      "cell_type": "markdown",
      "source": "## Recap\nHere's the code you've written so far."
    },
    {
      "metadata": {
        "_uuid": "cf4d6ede4d900e3437556ebb82b0204587f54059",
        "trusted": true
      },
      "cell_type": "code",
      "source": "# Code you have previously used to load data\nimport pandas as pd\nfrom sklearn.metrics import mean_absolute_error\nfrom sklearn.model_selection import train_test_split\nfrom sklearn.tree import DecisionTreeRegressor\n\n\n# Path of the file to read\niowa_file_path = '../input/home-data-for-ml-course/train.csv'\n\nhome_data = pd.read_csv(iowa_file_path)\n# Create target object and call it y\ny = home_data.SalePrice\n# Create X\nfeatures = ['LotArea', 'YearBuilt', '1stFlrSF', '2ndFlrSF', 'FullBath', 'BedroomAbvGr', 'TotRmsAbvGrd']\nX = home_data[features]\n\n# Split into validation and training data\ntrain_X, val_X, train_y, val_y = train_test_split(X, y, random_state=1)\n\n# Specify Model\niowa_model = DecisionTreeRegressor(random_state=1)\n# Fit Model\niowa_model.fit(train_X, train_y)\n\n# Make validation predictions and calculate mean absolute error\nval_predictions = iowa_model.predict(val_X)\nval_mae = mean_absolute_error(val_predictions, val_y)\nprint(\"Validation MAE when not specifying max_leaf_nodes: {:,.0f}\".format(val_mae))\n\n# Using best value for max_leaf_nodes\niowa_model = DecisionTreeRegressor(max_leaf_nodes=100, random_state=1)\niowa_model.fit(train_X, train_y)\nval_predictions = iowa_model.predict(val_X)\nval_mae = mean_absolute_error(val_predictions, val_y)\nprint(\"Validation MAE for best value of max_leaf_nodes: {:,.0f}\".format(val_mae))\n\n\n# Set up code checking\nfrom learntools.core import binder\nbinder.bind(globals())\nfrom learntools.machine_learning.ex6 import *\nprint(\"\\nSetup complete\")",
      "execution_count": 1,
      "outputs": [
        {
          "output_type": "stream",
          "text": "Validation MAE when not specifying max_leaf_nodes: 29,653\nValidation MAE for best value of max_leaf_nodes: 27,283\n\nSetup complete\n",
          "name": "stdout"
        }
      ]
    },
    {
      "metadata": {
        "_uuid": "405d0a8e9e31531f8a2395a3d882fdf9cdd29bcc"
      },
      "cell_type": "markdown",
      "source": "# Exercises\nData science isn't always this easy. But replacing the decision tree with a Random Forest is going to be an easy win."
    },
    {
      "metadata": {
        "_uuid": "1084b33acaaa247ce2330f707a394e2b617e6b62"
      },
      "cell_type": "markdown",
      "source": "## Step 1: Use a Random Forest"
    },
    {
      "metadata": {
        "_uuid": "f8600084b2caf11efb1b8f02cb2f8d24ae7c4bef",
        "trusted": true
      },
      "cell_type": "code",
      "source": "from sklearn.ensemble import RandomForestRegressor\n\n# Define the model. Set random_state to 1\nrf_model = RandomForestRegressor(random_state = 1)\n\n# fit your model\nrf_model.fit(train_X,train_y)\n\n# Calculate the mean absolute error of your Random Forest model on the validation data\nrf_val_mae = mean_absolute_error(val_y,rf_model.predict(val_X))\n\nprint(\"Validation MAE for Random Forest Model: {}\".format(rf_val_mae))",
      "execution_count": 2,
      "outputs": [
        {
          "output_type": "stream",
          "text": "Validation MAE for Random Forest Model: 22762.42931506849\n",
          "name": "stdout"
        },
        {
          "output_type": "stream",
          "text": "/opt/conda/lib/python3.6/site-packages/sklearn/ensemble/forest.py:246: FutureWarning: The default value of n_estimators will change from 10 in version 0.20 to 100 in 0.22.\n  \"10 in version 0.20 to 100 in 0.22.\", FutureWarning)\n",
          "name": "stderr"
        }
      ]
    },
    {
      "metadata": {
        "_uuid": "a19b50ceb126ee4335c83e4887ab7b74ed5357ed"
      },
      "cell_type": "markdown",
      "source": "So far, you have followed specific instructions at each step of your project. This helped you learn key ideas and build your first model. But now you know enough to try things on your own. \n\nMachine Learning competitions are a great way to try your own ideas and learn more as you independently navigate a machine learning project.\n\nThe last step in this course will show you how to join a competition. You'll be brought to a page to accept the competition rules, then you'll make your first model submission."
    },
    {
      "metadata": {
        "_uuid": "61adbf68d710efd1aef253e78d24f02c349d7182",
        "trusted": true
      },
      "cell_type": "markdown",
      "source": "# Keep Going\n\nYou are ready for **[Machine Learning Competitions](https://www.kaggle.com/kernels/fork/1259198).**\n"
    },
    {
      "metadata": {
        "_uuid": "58666d05d4cfc260e4792a8adbdd87dc8a598c57"
      },
      "cell_type": "markdown",
      "source": "---\n**[Machine Learning Course Home Page](https://www.kaggle.com/learn/machine-learning)**\n\n"
    }
  ],
  "metadata": {
    "kernelspec": {
      "display_name": "Python 3",
      "language": "python",
      "name": "python3"
    },
    "language_info": {
      "name": "python",
      "version": "3.6.6",
      "mimetype": "text/x-python",
      "codemirror_mode": {
        "name": "ipython",
        "version": 3
      },
      "pygments_lexer": "ipython3",
      "nbconvert_exporter": "python",
      "file_extension": ".py"
    }
  },
  "nbformat": 4,
  "nbformat_minor": 1
}